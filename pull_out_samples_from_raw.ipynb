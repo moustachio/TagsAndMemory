{
 "metadata": {
  "name": "",
  "signature": "sha256:ad6dafe35c46b2fa4df004d8639883ab4b4a0442470613ea3821cdf0bc69cb63"
 },
 "nbformat": 3,
 "nbformat_minor": 0,
 "worksheets": [
  {
   "cells": [
    {
     "cell_type": "code",
     "collapsed": false,
     "input": [
      "from scipy import sparse\n",
      "import numpy as np\n",
      "\n",
      "\n",
      "def sparse_loader(filename):\n",
      "\tnpz = np.load(filename)\n",
      "\treturn sparse.csr_matrix((npz['data'], npz['indices'], npz['indptr']), shape=npz['shape'])\n",
      "\n",
      "\n",
      "\n",
      "###PARAMETERS - number of lag months to control for, number of future months to predict\n",
      "LAG_LEAD_PERIOD = 6\n",
      "MONTH_OF_INTEREST_INDEX = 94\n",
      "MIN_COUNT_FOR_TIME_SERIES = 25\n",
      "\n"
     ],
     "language": "python",
     "metadata": {},
     "outputs": [],
     "prompt_number": 1
    },
    {
     "cell_type": "code",
     "collapsed": false,
     "input": [
      "#####################################\n",
      "#########SPIT DATA OUT FOR R#########\n",
      "#####################################\n",
      "\n",
      "\n",
      "tagged_data = sparse_loader(\"data/TS_annoAligned_all.npz\")\n",
      "\n",
      "#####################################\n",
      "#########DEAL WITH TAGGED DATA#########\n",
      "#####################################\n",
      "\n",
      "##We have data of the form:\n",
      "######user_id, artist_id, item_id, tag_id, month_index, S_t-89, S_t-88, ..., S_t, S_t+1, ...,S_t+89\n",
      "##What we want for the first regression is data of the form\n",
      "## USER_ID, ARTIST_ID, TAG_ID, LISTEN_COUNT for T-LAG, LISTEN_COUNT for T-LAG+1, ..., for T, TAG_OR_NO,mean(LISTENING_COUNT for T..T+PREDICTION_AVERAGE)\n",
      "\n",
      "###First, lets get rid of tags for which we don't have full lag or lead\n",
      "valid_months = np.logical_and(tagged_data[:,4].todense() > LAG_LEAD_PERIOD,\n",
      "                              tagged_data[:,4].todense() < 90-LAG_LEAD_PERIOD).transpose().tolist()[0]\n",
      "valid_indexes = [i for i in range(len(valid_months)) if valid_months[i]]\n",
      "tagged_data_subset = tagged_data[valid_indexes,:]\n",
      "\n",
      "##Now, lets get only the time period we're interested in, plus user_id, artist_id, tag_id\n",
      "listen_counts_we_want = [x for x in \n",
      "                         range(MONTH_OF_INTEREST_INDEX-LAG_LEAD_PERIOD,MONTH_OF_INTEREST_INDEX+LAG_LEAD_PERIOD+1)]\n",
      "prediction_matrix = tagged_data_subset[:,[0,1,3]+listen_counts_we_want]\n",
      "\n",
      "##Okay, lets get rid of the time series that have less than MIN listens during this time\n",
      "num_listens = prediction_matrix[:,3:].sum(1)\n",
      "valid_indexes = np.where(np.any(num_listens > MIN_COUNT_FOR_TIME_SERIES,axis=1))[0].tolist()[0]\n",
      "prediction_matrix = prediction_matrix[valid_indexes,:]\n",
      "\n",
      "####arg... python and scikit are no fun. spit out to matrix and play with it in R for a bit...\n",
      "np.savetxt(\"tagged.csv\", prediction_matrix.todense(), delimiter=\",\")"
     ],
     "language": "python",
     "metadata": {},
     "outputs": [],
     "prompt_number": 2
    },
    {
     "cell_type": "code",
     "collapsed": false,
     "input": [
      "##Thought about doing something fancy here ... wasn't worth the effort.\n",
      "\n",
      "#import powerlaw\n",
      "#data =  prediction_matrix[:,3:].sum(1).transpose().tolist()[0]\n",
      "#fit = powerlaw.Fit(data)\n",
      "#print fit.distribution_compare('truncated_power_law', 'lognormal')\n",
      "#fig = fit.plot_ccdf(linewidth=3, label='Empirical Data')\n",
      "#fit.power_law.plot_ccdf(ax=fig, color='r', linestyle='--', label='Power law fit')\n",
      "#fit.lognormal.plot_ccdf(ax=fig, color='g', linestyle='--', label='Lognormal fit')\n",
      "#print fit.lognormal.mu, fit.lognormal.sigma\n"
     ],
     "language": "python",
     "metadata": {},
     "outputs": [
      {
       "output_type": "stream",
       "stream": "stdout",
       "text": [
        "Calculating best minimal value for power law fit\n",
        "(62.056052086816067, 2.7083090931932055e-91)"
       ]
      },
      {
       "output_type": "stream",
       "stream": "stdout",
       "text": [
        "\n",
        "-6.53172700072 3.17325206996\n",
        "[  9.62418258e-12]\n"
       ]
      }
     ],
     "prompt_number": 32
    },
    {
     "cell_type": "code",
     "collapsed": false,
     "input": [
      "#####################################\n",
      "#########DEAL WITH UNTAGGED DATA#########\n",
      "#####################################\n",
      "\n",
      "import itertools, random\n",
      "\n",
      "untagged_data = sparse_loader(\"data/TS_untagged_all.npz\")\n",
      "\n",
      "##We have data of the form:\n",
      "######user_id, artist_id, Month_0, Month_1, ..., Month_t\n",
      "##What we want for the first regression is data of the form\n",
      "## USER_ID, ARTIST_ID, -1, LISTEN_COUNT for ACTIVE 13 MONTH PERIOD CENTERED AT SPIKE\n",
      "\n",
      "##Okay, lets get rid of the time series that have less than MIN listens overall\n",
      "num_listens = untagged_data[:,2:].sum(1)\n",
      "valid_indexes = np.where(np.any(num_listens > MIN_COUNT_FOR_TIME_SERIES,axis=1))[0].tolist()[0]\n",
      "untagged_data_subset = untagged_data[valid_indexes,:]"
     ],
     "language": "python",
     "metadata": {},
     "outputs": [],
     "prompt_number": 32
    },
    {
     "cell_type": "code",
     "collapsed": false,
     "input": [
      "###Okay, now we have a bunch of possible untagged time series of length 90.\n",
      "##Here's how we're going to get our samples\n",
      "final_mat = np.zeros((untagged_data_subset.shape[0],LAG_LEAD_PERIOD*2+4))\n",
      "##for each time series\n",
      "n_samples = 0\n",
      "\n",
      "for row_iter in range(untagged_data_subset.shape[0]):\n",
      "    vals = untagged_data_subset[row_iter,2:]\n",
      "    ##if there is a random non-zero month that:\n",
      "        #has > LAG_PERIOD months before it and > LAG_PERIOD months after it\n",
      "    poss_middle_point_to_select = [v for v in vals.nonzero()[1] \n",
      "                                    if (v-2) > LAG_LEAD_PERIOD and (v+6) < 90]\n",
      "    random.shuffle(poss_middle_point_to_select)\n",
      "    \n",
      "    poss_selections_set = set(poss_middle_point_to_select)\n",
      "    for i in poss_middle_point_to_select:\n",
      "        #has a listen in the LAG previous and LAG months post this specific month\n",
      "        #has > MIN listens in the 2*LAG + 1 total months, use it\n",
      "        if (len(set(range(i - LAG_LEAD_PERIOD,i)).intersection(poss_selections_set)) > 0 and\n",
      "            len(set(range(i+1,i+LAG_LEAD_PERIOD+1)).intersection(poss_selections_set)) > 0 and\n",
      "            vals[0,(i-LAG_LEAD_PERIOD):(i+LAG_LEAD_PERIOD+1)].sum(1) > MIN_COUNT_FOR_TIME_SERIES):\n",
      " \n",
      "            final_mat[n_samples,0:2] = untagged_data_subset[row_iter,0:2].todense()\n",
      "            final_mat[n_samples,2] = -1\n",
      "            final_mat[n_samples,3:] = vals[0,(i-LAG_LEAD_PERIOD):(i+LAG_LEAD_PERIOD+1)].todense()\n",
      "            \n",
      "            n_samples += 1\n",
      "            break\n",
      "          \n",
      "    if row_iter % 100000 == 0:\n",
      "        print row_iter\n",
      "\n",
      "    \n",
      "        "
     ],
     "language": "python",
     "metadata": {},
     "outputs": [
      {
       "output_type": "stream",
       "stream": "stdout",
       "text": [
        "0\n",
        "100000"
       ]
      },
      {
       "output_type": "stream",
       "stream": "stdout",
       "text": [
        "\n",
        "200000"
       ]
      },
      {
       "output_type": "stream",
       "stream": "stdout",
       "text": [
        "\n",
        "300000"
       ]
      },
      {
       "output_type": "stream",
       "stream": "stdout",
       "text": [
        "\n",
        "400000"
       ]
      },
      {
       "output_type": "stream",
       "stream": "stdout",
       "text": [
        "\n",
        "500000"
       ]
      },
      {
       "output_type": "stream",
       "stream": "stdout",
       "text": [
        "\n",
        "600000"
       ]
      },
      {
       "output_type": "stream",
       "stream": "stdout",
       "text": [
        "\n",
        "700000"
       ]
      },
      {
       "output_type": "stream",
       "stream": "stdout",
       "text": [
        "\n",
        "800000"
       ]
      },
      {
       "output_type": "stream",
       "stream": "stdout",
       "text": [
        "\n",
        "900000"
       ]
      },
      {
       "output_type": "stream",
       "stream": "stdout",
       "text": [
        "\n",
        "1000000"
       ]
      },
      {
       "output_type": "stream",
       "stream": "stdout",
       "text": [
        "\n",
        "1100000"
       ]
      },
      {
       "output_type": "stream",
       "stream": "stdout",
       "text": [
        "\n",
        "1200000"
       ]
      },
      {
       "output_type": "stream",
       "stream": "stdout",
       "text": [
        "\n",
        "1300000"
       ]
      },
      {
       "output_type": "stream",
       "stream": "stdout",
       "text": [
        "\n",
        "1400000"
       ]
      },
      {
       "output_type": "stream",
       "stream": "stdout",
       "text": [
        "\n",
        "1500000"
       ]
      },
      {
       "output_type": "stream",
       "stream": "stdout",
       "text": [
        "\n",
        "1600000"
       ]
      },
      {
       "output_type": "stream",
       "stream": "stdout",
       "text": [
        "\n",
        "1700000"
       ]
      },
      {
       "output_type": "stream",
       "stream": "stdout",
       "text": [
        "\n",
        "1800000"
       ]
      },
      {
       "output_type": "stream",
       "stream": "stdout",
       "text": [
        "\n",
        "1900000"
       ]
      },
      {
       "output_type": "stream",
       "stream": "stdout",
       "text": [
        "\n",
        "2000000"
       ]
      },
      {
       "output_type": "stream",
       "stream": "stdout",
       "text": [
        "\n",
        "2100000"
       ]
      },
      {
       "output_type": "stream",
       "stream": "stdout",
       "text": [
        "\n",
        "2200000"
       ]
      },
      {
       "output_type": "stream",
       "stream": "stdout",
       "text": [
        "\n",
        "2300000"
       ]
      },
      {
       "output_type": "stream",
       "stream": "stdout",
       "text": [
        "\n",
        "2400000"
       ]
      },
      {
       "output_type": "stream",
       "stream": "stdout",
       "text": [
        "\n",
        "2500000"
       ]
      },
      {
       "output_type": "stream",
       "stream": "stdout",
       "text": [
        "\n",
        "2600000"
       ]
      },
      {
       "output_type": "stream",
       "stream": "stdout",
       "text": [
        "\n",
        "2700000"
       ]
      },
      {
       "output_type": "stream",
       "stream": "stdout",
       "text": [
        "\n",
        "2800000"
       ]
      },
      {
       "output_type": "stream",
       "stream": "stdout",
       "text": [
        "\n",
        "2900000"
       ]
      },
      {
       "output_type": "stream",
       "stream": "stdout",
       "text": [
        "\n",
        "3000000"
       ]
      },
      {
       "output_type": "stream",
       "stream": "stdout",
       "text": [
        "\n",
        "3100000"
       ]
      },
      {
       "output_type": "stream",
       "stream": "stdout",
       "text": [
        "\n",
        "3200000"
       ]
      },
      {
       "output_type": "stream",
       "stream": "stdout",
       "text": [
        "\n",
        "3300000"
       ]
      },
      {
       "output_type": "stream",
       "stream": "stdout",
       "text": [
        "\n",
        "3400000"
       ]
      },
      {
       "output_type": "stream",
       "stream": "stdout",
       "text": [
        "\n",
        "3500000"
       ]
      },
      {
       "output_type": "stream",
       "stream": "stdout",
       "text": [
        "\n",
        "3600000"
       ]
      },
      {
       "output_type": "stream",
       "stream": "stdout",
       "text": [
        "\n",
        "3700000"
       ]
      },
      {
       "output_type": "stream",
       "stream": "stdout",
       "text": [
        "\n",
        "3800000"
       ]
      },
      {
       "output_type": "stream",
       "stream": "stdout",
       "text": [
        "\n",
        "3900000"
       ]
      },
      {
       "output_type": "stream",
       "stream": "stdout",
       "text": [
        "\n",
        "4000000"
       ]
      },
      {
       "output_type": "stream",
       "stream": "stdout",
       "text": [
        "\n",
        "4100000"
       ]
      },
      {
       "output_type": "stream",
       "stream": "stdout",
       "text": [
        "\n",
        "4200000"
       ]
      },
      {
       "output_type": "stream",
       "stream": "stdout",
       "text": [
        "\n",
        "4300000"
       ]
      },
      {
       "output_type": "stream",
       "stream": "stdout",
       "text": [
        "\n",
        "4400000"
       ]
      },
      {
       "output_type": "stream",
       "stream": "stdout",
       "text": [
        "\n",
        "4500000"
       ]
      },
      {
       "output_type": "stream",
       "stream": "stdout",
       "text": [
        "\n",
        "4600000"
       ]
      },
      {
       "output_type": "stream",
       "stream": "stdout",
       "text": [
        "\n",
        "4700000"
       ]
      },
      {
       "output_type": "stream",
       "stream": "stdout",
       "text": [
        "\n",
        "4800000"
       ]
      },
      {
       "output_type": "stream",
       "stream": "stdout",
       "text": [
        "\n",
        "4900000"
       ]
      },
      {
       "output_type": "stream",
       "stream": "stdout",
       "text": [
        "\n",
        "5000000"
       ]
      },
      {
       "output_type": "stream",
       "stream": "stdout",
       "text": [
        "\n",
        "5100000"
       ]
      },
      {
       "output_type": "stream",
       "stream": "stdout",
       "text": [
        "\n",
        "5200000"
       ]
      },
      {
       "output_type": "stream",
       "stream": "stdout",
       "text": [
        "\n",
        "5300000"
       ]
      },
      {
       "output_type": "stream",
       "stream": "stdout",
       "text": [
        "\n",
        "5400000"
       ]
      },
      {
       "output_type": "stream",
       "stream": "stdout",
       "text": [
        "\n",
        "5500000"
       ]
      },
      {
       "output_type": "stream",
       "stream": "stdout",
       "text": [
        "\n",
        "5600000"
       ]
      },
      {
       "output_type": "stream",
       "stream": "stdout",
       "text": [
        "\n",
        "5700000"
       ]
      },
      {
       "output_type": "stream",
       "stream": "stdout",
       "text": [
        "\n",
        "5800000"
       ]
      },
      {
       "output_type": "stream",
       "stream": "stdout",
       "text": [
        "\n",
        "5900000"
       ]
      },
      {
       "output_type": "stream",
       "stream": "stdout",
       "text": [
        "\n",
        "6000000"
       ]
      },
      {
       "output_type": "stream",
       "stream": "stdout",
       "text": [
        "\n",
        "6100000"
       ]
      },
      {
       "output_type": "stream",
       "stream": "stdout",
       "text": [
        "\n",
        "6200000"
       ]
      },
      {
       "output_type": "stream",
       "stream": "stdout",
       "text": [
        "\n",
        "6300000"
       ]
      },
      {
       "output_type": "stream",
       "stream": "stdout",
       "text": [
        "\n",
        "6400000"
       ]
      },
      {
       "output_type": "stream",
       "stream": "stdout",
       "text": [
        "\n",
        "6500000"
       ]
      },
      {
       "output_type": "stream",
       "stream": "stdout",
       "text": [
        "\n",
        "6600000"
       ]
      },
      {
       "output_type": "stream",
       "stream": "stdout",
       "text": [
        "\n",
        "6700000"
       ]
      },
      {
       "output_type": "stream",
       "stream": "stdout",
       "text": [
        "\n",
        "6800000"
       ]
      },
      {
       "output_type": "stream",
       "stream": "stdout",
       "text": [
        "\n",
        "6900000"
       ]
      },
      {
       "output_type": "stream",
       "stream": "stdout",
       "text": [
        "\n",
        "7000000"
       ]
      },
      {
       "output_type": "stream",
       "stream": "stdout",
       "text": [
        "\n",
        "7100000"
       ]
      },
      {
       "output_type": "stream",
       "stream": "stdout",
       "text": [
        "\n",
        "7200000"
       ]
      },
      {
       "output_type": "stream",
       "stream": "stdout",
       "text": [
        "\n",
        "7300000"
       ]
      },
      {
       "output_type": "stream",
       "stream": "stdout",
       "text": [
        "\n",
        "7400000"
       ]
      },
      {
       "output_type": "stream",
       "stream": "stdout",
       "text": [
        "\n",
        "7500000"
       ]
      },
      {
       "output_type": "stream",
       "stream": "stdout",
       "text": [
        "\n",
        "7600000"
       ]
      },
      {
       "output_type": "stream",
       "stream": "stdout",
       "text": [
        "\n",
        "7700000"
       ]
      },
      {
       "output_type": "stream",
       "stream": "stdout",
       "text": [
        "\n",
        "7800000"
       ]
      },
      {
       "output_type": "stream",
       "stream": "stdout",
       "text": [
        "\n",
        "7900000"
       ]
      },
      {
       "output_type": "stream",
       "stream": "stdout",
       "text": [
        "\n",
        "8000000"
       ]
      },
      {
       "output_type": "stream",
       "stream": "stdout",
       "text": [
        "\n",
        "8100000"
       ]
      },
      {
       "output_type": "stream",
       "stream": "stdout",
       "text": [
        "\n",
        "8200000"
       ]
      },
      {
       "output_type": "stream",
       "stream": "stdout",
       "text": [
        "\n",
        "8300000"
       ]
      },
      {
       "output_type": "stream",
       "stream": "stdout",
       "text": [
        "\n",
        "8400000"
       ]
      },
      {
       "output_type": "stream",
       "stream": "stdout",
       "text": [
        "\n",
        "8500000"
       ]
      },
      {
       "output_type": "stream",
       "stream": "stdout",
       "text": [
        "\n",
        "8600000"
       ]
      },
      {
       "output_type": "stream",
       "stream": "stdout",
       "text": [
        "\n",
        "8700000"
       ]
      },
      {
       "output_type": "stream",
       "stream": "stdout",
       "text": [
        "\n",
        "8800000"
       ]
      },
      {
       "output_type": "stream",
       "stream": "stdout",
       "text": [
        "\n",
        "8900000"
       ]
      },
      {
       "output_type": "stream",
       "stream": "stdout",
       "text": [
        "\n",
        "9000000"
       ]
      },
      {
       "output_type": "stream",
       "stream": "stdout",
       "text": [
        "\n",
        "9100000"
       ]
      },
      {
       "output_type": "stream",
       "stream": "stdout",
       "text": [
        "\n",
        "9200000"
       ]
      },
      {
       "output_type": "stream",
       "stream": "stdout",
       "text": [
        "\n",
        "9300000"
       ]
      },
      {
       "output_type": "stream",
       "stream": "stdout",
       "text": [
        "\n",
        "9400000"
       ]
      },
      {
       "output_type": "stream",
       "stream": "stdout",
       "text": [
        "\n",
        "9500000"
       ]
      },
      {
       "output_type": "stream",
       "stream": "stdout",
       "text": [
        "\n",
        "9600000"
       ]
      },
      {
       "output_type": "stream",
       "stream": "stdout",
       "text": [
        "\n",
        "9700000"
       ]
      },
      {
       "output_type": "stream",
       "stream": "stdout",
       "text": [
        "\n",
        "9800000"
       ]
      },
      {
       "output_type": "stream",
       "stream": "stdout",
       "text": [
        "\n",
        "9900000"
       ]
      },
      {
       "output_type": "stream",
       "stream": "stdout",
       "text": [
        "\n"
       ]
      }
     ],
     "prompt_number": 48
    },
    {
     "cell_type": "code",
     "collapsed": false,
     "input": [
      "final_mat = final_mat[0:n_samples,:]\n",
      "np.savetxt(\"data/untagged.csv\", final_mat, delimiter=\",\")"
     ],
     "language": "python",
     "metadata": {},
     "outputs": [],
     "prompt_number": 50
    },
    {
     "cell_type": "code",
     "collapsed": false,
     "input": [
      "np.save(\"data/untagged.npy\",final_mat)"
     ],
     "language": "python",
     "metadata": {},
     "outputs": [],
     "prompt_number": 51
    }
   ],
   "metadata": {}
  }
 ]
}